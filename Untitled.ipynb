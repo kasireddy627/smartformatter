{
 "cells": [
  {
   "cell_type": "code",
   "execution_count": 1,
   "id": "43b6024e-53f9-4a2a-a6a1-5d975388890f",
   "metadata": {},
   "outputs": [],
   "source": [
    "from smartformatter import format_currency,format_name,format_phone,number_to_wordsnumber_to_words,slugify"
   ]
  },
  {
   "cell_type": "code",
   "execution_count": 2,
   "id": "bc5b79f8-9b35-4627-a51b-37f87fccb408",
   "metadata": {},
   "outputs": [
    {
     "data": {
      "text/plain": [
       "'$875,768.00'"
      ]
     },
     "execution_count": 2,
     "metadata": {},
     "output_type": "execute_result"
    }
   ],
   "source": [
    "format_currency(875768)"
   ]
  },
  {
   "cell_type": "code",
   "execution_count": 3,
   "id": "b5da89a9-f05f-4799-986c-584574b6b18b",
   "metadata": {},
   "outputs": [
    {
     "data": {
      "text/plain": [
       "'+91 91820 52360'"
      ]
     },
     "execution_count": 3,
     "metadata": {},
     "output_type": "execute_result"
    }
   ],
   "source": [
    "format_phone('+919182***052360')"
   ]
  },
  {
   "cell_type": "code",
   "execution_count": 4,
   "id": "7357e93a-8108-4ab9-8087-e42d38a1082a",
   "metadata": {},
   "outputs": [
    {
     "data": {
      "text/plain": [
       "'$910,000.00'"
      ]
     },
     "execution_count": 4,
     "metadata": {},
     "output_type": "execute_result"
    }
   ],
   "source": [
    "format_currency(910000)"
   ]
  },
  {
   "cell_type": "code",
   "execution_count": 5,
   "id": "9d02b21f-9331-4b19-83db-8cbf850b0611",
   "metadata": {},
   "outputs": [
    {
     "data": {
      "text/plain": [
       "'Kasi'"
      ]
     },
     "execution_count": 5,
     "metadata": {},
     "output_type": "execute_result"
    }
   ],
   "source": [
    "format_name(\"    kasi \")"
   ]
  },
  {
   "cell_type": "code",
   "execution_count": 7,
   "id": "524cb6ac-e542-4a2e-8d66-ade87929f7fa",
   "metadata": {},
   "outputs": [
    {
     "data": {
      "text/plain": [
       "'eight hundred and twenty-eight thousand two hundred and seventy-three'"
      ]
     },
     "execution_count": 7,
     "metadata": {},
     "output_type": "execute_result"
    }
   ],
   "source": [
    "number_to_words(828273)"
   ]
  },
  {
   "cell_type": "code",
   "execution_count": null,
   "id": "32dea3cc-96d5-417f-a3c7-54b2ceb5bb14",
   "metadata": {},
   "outputs": [],
   "source": []
  }
 ],
 "metadata": {
  "kernelspec": {
   "display_name": "Python 3 (ipykernel)",
   "language": "python",
   "name": "python3"
  },
  "language_info": {
   "codemirror_mode": {
    "name": "ipython",
    "version": 3
   },
   "file_extension": ".py",
   "mimetype": "text/x-python",
   "name": "python",
   "nbconvert_exporter": "python",
   "pygments_lexer": "ipython3",
   "version": "3.12.7"
  }
 },
 "nbformat": 4,
 "nbformat_minor": 5
}
