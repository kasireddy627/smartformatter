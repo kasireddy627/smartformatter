{
 "cells": [
  {
   "cell_type": "code",
   "execution_count": 4,
   "id": "aed71833-6eba-426a-ab22-35cf43936d2f",
   "metadata": {},
   "outputs": [
    {
     "name": "stdout",
     "output_type": "stream",
     "text": [
      "Overwriting __init__.py\n"
     ]
    }
   ],
   "source": [
    "%%writefile __init__.py\n",
    "from .core import format_name, format_phone, format_currency, number_to_words, slugify"
   ]
  },
  {
   "cell_type": "code",
   "execution_count": null,
   "id": "cc625152-513a-4897-9347-d070b513f896",
   "metadata": {},
   "outputs": [],
   "source": []
  },
  {
   "cell_type": "code",
   "execution_count": 5,
   "id": "4cfa229c-7533-459a-9972-50d195b52ac3",
   "metadata": {},
   "outputs": [
    {
     "name": "stdout",
     "output_type": "stream",
     "text": [
      "Overwriting core.py\n"
     ]
    }
   ],
   "source": [
    "%%writefile core.py\n",
    "import re\n",
    "import inflect\n",
    "\n",
    "def format_name(name):\n",
    "    return ' '.join([w.capitalize() for w in name.strip().split()])\n",
    "\n",
    "def format_phone(phone):\n",
    "    digits = re.sub(r'\\D', '', phone)\n",
    "    return f\"+{digits[:2]} {digits[2:7]} {digits[7:]}\"\n",
    "\n",
    "def format_currency(amount, symbol='$'):\n",
    "    return f\"{symbol}{amount:,.2f}\"\n",
    "\n",
    "def number_to_words(n):\n",
    "    p = inflect.engine()\n",
    "    return p.number_to_words(n).replace(',', '')\n",
    "\n",
    "def slugify(text):\n",
    "    return re.sub(r'[^a-z0-9]+', '-', text.lower()).strip('-')"
   ]
  },
  {
   "cell_type": "code",
   "execution_count": null,
   "id": "0f5b2572-c435-4f1c-8414-bcd30df89089",
   "metadata": {},
   "outputs": [],
   "source": []
  }
 ],
 "metadata": {
  "kernelspec": {
   "display_name": "Python 3 (ipykernel)",
   "language": "python",
   "name": "python3"
  },
  "language_info": {
   "codemirror_mode": {
    "name": "ipython",
    "version": 3
   },
   "file_extension": ".py",
   "mimetype": "text/x-python",
   "name": "python",
   "nbconvert_exporter": "python",
   "pygments_lexer": "ipython3",
   "version": "3.12.7"
  }
 },
 "nbformat": 4,
 "nbformat_minor": 5
}
